{
  "nbformat": 4,
  "nbformat_minor": 0,
  "metadata": {
    "colab": {
      "provenance": []
    },
    "kernelspec": {
      "name": "python3",
      "display_name": "Python 3"
    },
    "language_info": {
      "name": "python"
    }
  },
  "cells": [
    {
      "cell_type": "code",
      "execution_count": 3,
      "metadata": {
        "id": "BZ0JcwAr6iUh"
      },
      "outputs": [],
      "source": [
        "# Breast Cancer Classification - Supervised Learning\n",
        "\n",
        "# Importing Libraries\n",
        "import numpy as np\n",
        "import pandas as pd\n",
        "from sklearn.datasets import load_breast_cancer\n",
        "from sklearn.model_selection import train_test_split\n",
        "from sklearn.preprocessing import StandardScaler\n",
        "from sklearn.linear_model import LogisticRegression\n",
        "from sklearn.tree import DecisionTreeClassifier\n",
        "from sklearn.ensemble import RandomForestClassifier\n",
        "from sklearn.svm import SVC\n",
        "from sklearn.neighbors import KNeighborsClassifier\n",
        "from sklearn.metrics import accuracy_score, confusion_matrix, classification_report\n",
        "import seaborn as sns\n",
        "import matplotlib.pyplot as plt"
      ]
    },
    {
      "cell_type": "code",
      "source": [
        "# Load and Explore Dataset\n",
        "data = load_breast_cancer()\n",
        "df = pd.DataFrame(data.data, columns=data.feature_names)\n",
        "df['target'] = data.target\n",
        "\n",
        "print(\"Dataset Loaded Successfully!\")\n",
        "print(\"Dataset Shape:\", df.shape)\n",
        "print(\"Columns:\", df.columns.tolist())\n",
        "print(\"Target Classes:\", data.target_names)\n",
        "print(\"First 5 Rows:\", df.head())"
      ],
      "metadata": {
        "colab": {
          "base_uri": "https://localhost:8080/"
        },
        "id": "NoDcGV2_6kDS",
        "outputId": "9616b8a9-671c-4228-abef-d541dcd155f0"
      },
      "execution_count": 4,
      "outputs": [
        {
          "output_type": "stream",
          "name": "stdout",
          "text": [
            "Dataset Loaded Successfully!\n",
            "Dataset Shape: (569, 31)\n",
            "Columns: ['mean radius', 'mean texture', 'mean perimeter', 'mean area', 'mean smoothness', 'mean compactness', 'mean concavity', 'mean concave points', 'mean symmetry', 'mean fractal dimension', 'radius error', 'texture error', 'perimeter error', 'area error', 'smoothness error', 'compactness error', 'concavity error', 'concave points error', 'symmetry error', 'fractal dimension error', 'worst radius', 'worst texture', 'worst perimeter', 'worst area', 'worst smoothness', 'worst compactness', 'worst concavity', 'worst concave points', 'worst symmetry', 'worst fractal dimension', 'target']\n",
            "Target Classes: ['malignant' 'benign']\n",
            "First 5 Rows:    mean radius  mean texture  mean perimeter  mean area  mean smoothness  \\\n",
            "0        17.99         10.38          122.80     1001.0          0.11840   \n",
            "1        20.57         17.77          132.90     1326.0          0.08474   \n",
            "2        19.69         21.25          130.00     1203.0          0.10960   \n",
            "3        11.42         20.38           77.58      386.1          0.14250   \n",
            "4        20.29         14.34          135.10     1297.0          0.10030   \n",
            "\n",
            "   mean compactness  mean concavity  mean concave points  mean symmetry  \\\n",
            "0           0.27760          0.3001              0.14710         0.2419   \n",
            "1           0.07864          0.0869              0.07017         0.1812   \n",
            "2           0.15990          0.1974              0.12790         0.2069   \n",
            "3           0.28390          0.2414              0.10520         0.2597   \n",
            "4           0.13280          0.1980              0.10430         0.1809   \n",
            "\n",
            "   mean fractal dimension  ...  worst texture  worst perimeter  worst area  \\\n",
            "0                 0.07871  ...          17.33           184.60      2019.0   \n",
            "1                 0.05667  ...          23.41           158.80      1956.0   \n",
            "2                 0.05999  ...          25.53           152.50      1709.0   \n",
            "3                 0.09744  ...          26.50            98.87       567.7   \n",
            "4                 0.05883  ...          16.67           152.20      1575.0   \n",
            "\n",
            "   worst smoothness  worst compactness  worst concavity  worst concave points  \\\n",
            "0            0.1622             0.6656           0.7119                0.2654   \n",
            "1            0.1238             0.1866           0.2416                0.1860   \n",
            "2            0.1444             0.4245           0.4504                0.2430   \n",
            "3            0.2098             0.8663           0.6869                0.2575   \n",
            "4            0.1374             0.2050           0.4000                0.1625   \n",
            "\n",
            "   worst symmetry  worst fractal dimension  target  \n",
            "0          0.4601                  0.11890       0  \n",
            "1          0.2750                  0.08902       0  \n",
            "2          0.3613                  0.08758       0  \n",
            "3          0.6638                  0.17300       0  \n",
            "4          0.2364                  0.07678       0  \n",
            "\n",
            "[5 rows x 31 columns]\n"
          ]
        }
      ]
    },
    {
      "cell_type": "markdown",
      "source": [
        "The preprocessing steps ensure the dataset is clean, consistent, and ready for machine learning. They prevent scale bias, improve algorithm performance, and ensure reliable evaluation metrics."
      ],
      "metadata": {
        "id": "iDAZd1nJDhlT"
      }
    },
    {
      "cell_type": "code",
      "source": [
        "# Data Preprocessing\n",
        "# Check for missing values\n",
        "print(\"Missing Values:\", df.isnull().sum())\n",
        "\n",
        "# Scaling features\n",
        "scaler = StandardScaler()\n",
        "X = scaler.fit_transform(df.drop('target', axis=1))\n",
        "y = df['target']"
      ],
      "metadata": {
        "colab": {
          "base_uri": "https://localhost:8080/"
        },
        "id": "OBi5Z8Ln71Ky",
        "outputId": "3b4a4c06-8db3-4c88-c8e5-77096ff353e5"
      },
      "execution_count": 5,
      "outputs": [
        {
          "output_type": "stream",
          "name": "stdout",
          "text": [
            "Missing Values: mean radius                0\n",
            "mean texture               0\n",
            "mean perimeter             0\n",
            "mean area                  0\n",
            "mean smoothness            0\n",
            "mean compactness           0\n",
            "mean concavity             0\n",
            "mean concave points        0\n",
            "mean symmetry              0\n",
            "mean fractal dimension     0\n",
            "radius error               0\n",
            "texture error              0\n",
            "perimeter error            0\n",
            "area error                 0\n",
            "smoothness error           0\n",
            "compactness error          0\n",
            "concavity error            0\n",
            "concave points error       0\n",
            "symmetry error             0\n",
            "fractal dimension error    0\n",
            "worst radius               0\n",
            "worst texture              0\n",
            "worst perimeter            0\n",
            "worst area                 0\n",
            "worst smoothness           0\n",
            "worst compactness          0\n",
            "worst concavity            0\n",
            "worst concave points       0\n",
            "worst symmetry             0\n",
            "worst fractal dimension    0\n",
            "target                     0\n",
            "dtype: int64\n"
          ]
        }
      ]
    },
    {
      "cell_type": "code",
      "source": [
        "# Train-test split\n",
        "X_train, X_test, y_train, y_test = train_test_split(X, y, test_size=0.2, random_state=42)\n",
        "\n",
        "print(\"Data Preprocessing Complete!\")\n",
        "print(\"Training Samples:\", X_train.shape[0], \" | Testing Samples:\", X_test.shape[0])"
      ],
      "metadata": {
        "colab": {
          "base_uri": "https://localhost:8080/"
        },
        "id": "-i321o0h76no",
        "outputId": "ef99efa3-0eaa-485b-d385-6f9a2a042eec"
      },
      "execution_count": 6,
      "outputs": [
        {
          "output_type": "stream",
          "name": "stdout",
          "text": [
            "Data Preprocessing Complete!\n",
            "Training Samples: 455  | Testing Samples: 114\n"
          ]
        }
      ]
    },
    {
      "cell_type": "markdown",
      "source": [
        "**Logistic Regression**\n",
        "\n",
        "How it works:\n",
        "Logistic Regression is a linear model used for binary classification. It estimates the probability that a given input belongs to a particular class using the sigmoid (logistic) function. The output ranges between 0 and 1, which can be interpreted as a probability.\n",
        "\n",
        "Why it’s suitable:\n",
        "\n",
        "The breast cancer dataset is a binary classification problem (malignant vs. benign).\n",
        "\n",
        "Logistic Regression is simple, interpretable, and performs well when the relationship between features and target is approximately linear."
      ],
      "metadata": {
        "id": "HEg67604D1Lb"
      }
    },
    {
      "cell_type": "markdown",
      "source": [
        "**Decision Tree Classifier**\n",
        "\n",
        "How it works:\n",
        "A Decision Tree splits the dataset into smaller subsets based on feature values using metrics like Gini impurity or entropy. Each node represents a decision rule, and leaves represent the predicted class.\n",
        "\n",
        "Why it’s suitable:\n",
        "\n",
        "Works well with both linear and non-linear relationships.\n",
        "\n",
        "Easy to interpret and visualize.\n",
        "\n",
        "Can handle unscaled numerical data and capture feature interactions automatically."
      ],
      "metadata": {
        "id": "0AkYkf-nEFoE"
      }
    },
    {
      "cell_type": "markdown",
      "source": [
        "**Random Forest Classifier**\n",
        "\n",
        "How it works:\n",
        "Random Forest is an ensemble method that builds multiple decision trees and averages their predictions to improve accuracy and reduce overfitting. Each tree is trained on a random subset of features and data.\n",
        "\n",
        "Why it’s suitable:\n",
        "\n",
        "Handles large feature sets well.\n",
        "\n",
        "Reduces overfitting seen in single trees.\n",
        "\n",
        "Often achieves high accuracy and robust generalization on tabular datasets like this one."
      ],
      "metadata": {
        "id": "eOCYTWdgEI2g"
      }
    },
    {
      "cell_type": "markdown",
      "source": [
        "**Support Vector Machine (SVM)**\n",
        "\n",
        "How it works:\n",
        "SVM finds the optimal hyperplane that best separates the classes by maximizing the margin between them. For non-linear data, SVM uses kernel functions (like RBF) to project data into higher dimensions where it becomes linearly separable.\n",
        "\n",
        "Why it’s suitable:\n",
        "\n",
        "Effective in high-dimensional spaces like this dataset (30 features).\n",
        "\n",
        "Robust against overfitting, especially with proper kernel and regularization.\n",
        "\n",
        "Works well when there’s a clear boundary between classes (as in malignant vs. benign)."
      ],
      "metadata": {
        "id": "t4VIoPfWD6Mn"
      }
    },
    {
      "cell_type": "markdown",
      "source": [
        "**k-Nearest Neighbors (k-NN)**\n",
        "\n",
        "How it works:\n",
        "k-NN is a non-parametric algorithm that classifies a sample based on the majority label of its k nearest neighbors in the feature space. Distance metrics (like Euclidean) are used to find the nearest points.\n",
        "\n",
        "Why it’s suitable:\n",
        "\n",
        "Simple and intuitive, requires no explicit model training.\n",
        "\n",
        "Performs well when the dataset is not too large and the decision boundaries are smooth.\n",
        "\n",
        "Useful as a baseline model for comparison."
      ],
      "metadata": {
        "id": "f9G1EApqEPTm"
      }
    },
    {
      "cell_type": "code",
      "source": [
        "# Model Implementation\n",
        "\n",
        "models = {\n",
        "    \"Logistic Regression\": LogisticRegression(max_iter=1000),\n",
        "    \"Decision Tree\": DecisionTreeClassifier(random_state=42),\n",
        "    \"Random Forest\": RandomForestClassifier(random_state=42),\n",
        "    \"Support Vector Machine\": SVC(kernel='rbf', random_state=42),\n",
        "    \"k-Nearest Neighbors\": KNeighborsClassifier(n_neighbors=5)\n",
        "}\n",
        "\n",
        "results = {}\n",
        "\n",
        "for name, model in models.items():\n",
        "    model.fit(X_train, y_train)\n",
        "    y_pred = model.predict(X_test)\n",
        "    acc = accuracy_score(y_test, y_pred)\n",
        "    results[name] = acc\n",
        "    print(f\" {name}\")\n",
        "    print(\"Accuracy:\", round(acc, 4))\n",
        "    print(\"Confusion Matrix:\", confusion_matrix(y_test, y_pred))\n",
        "    print(\"Classification Report:\", classification_report(y_test, y_pred))"
      ],
      "metadata": {
        "colab": {
          "base_uri": "https://localhost:8080/"
        },
        "id": "1p9OpT7h7_aX",
        "outputId": "8504d99b-e2ae-445f-d4e8-dfaac1ca9e1c"
      },
      "execution_count": 7,
      "outputs": [
        {
          "output_type": "stream",
          "name": "stdout",
          "text": [
            " Logistic Regression\n",
            "Accuracy: 0.9737\n",
            "Confusion Matrix: [[41  2]\n",
            " [ 1 70]]\n",
            "Classification Report:               precision    recall  f1-score   support\n",
            "\n",
            "           0       0.98      0.95      0.96        43\n",
            "           1       0.97      0.99      0.98        71\n",
            "\n",
            "    accuracy                           0.97       114\n",
            "   macro avg       0.97      0.97      0.97       114\n",
            "weighted avg       0.97      0.97      0.97       114\n",
            "\n",
            " Decision Tree\n",
            "Accuracy: 0.9474\n",
            "Confusion Matrix: [[40  3]\n",
            " [ 3 68]]\n",
            "Classification Report:               precision    recall  f1-score   support\n",
            "\n",
            "           0       0.93      0.93      0.93        43\n",
            "           1       0.96      0.96      0.96        71\n",
            "\n",
            "    accuracy                           0.95       114\n",
            "   macro avg       0.94      0.94      0.94       114\n",
            "weighted avg       0.95      0.95      0.95       114\n",
            "\n",
            " Random Forest\n",
            "Accuracy: 0.9649\n",
            "Confusion Matrix: [[40  3]\n",
            " [ 1 70]]\n",
            "Classification Report:               precision    recall  f1-score   support\n",
            "\n",
            "           0       0.98      0.93      0.95        43\n",
            "           1       0.96      0.99      0.97        71\n",
            "\n",
            "    accuracy                           0.96       114\n",
            "   macro avg       0.97      0.96      0.96       114\n",
            "weighted avg       0.97      0.96      0.96       114\n",
            "\n",
            " Support Vector Machine\n",
            "Accuracy: 0.9737\n",
            "Confusion Matrix: [[41  2]\n",
            " [ 1 70]]\n",
            "Classification Report:               precision    recall  f1-score   support\n",
            "\n",
            "           0       0.98      0.95      0.96        43\n",
            "           1       0.97      0.99      0.98        71\n",
            "\n",
            "    accuracy                           0.97       114\n",
            "   macro avg       0.97      0.97      0.97       114\n",
            "weighted avg       0.97      0.97      0.97       114\n",
            "\n",
            " k-Nearest Neighbors\n",
            "Accuracy: 0.9474\n",
            "Confusion Matrix: [[40  3]\n",
            " [ 3 68]]\n",
            "Classification Report:               precision    recall  f1-score   support\n",
            "\n",
            "           0       0.93      0.93      0.93        43\n",
            "           1       0.96      0.96      0.96        71\n",
            "\n",
            "    accuracy                           0.95       114\n",
            "   macro avg       0.94      0.94      0.94       114\n",
            "weighted avg       0.95      0.95      0.95       114\n",
            "\n"
          ]
        }
      ]
    },
    {
      "cell_type": "code",
      "source": [
        "#  Model Comparison\n",
        "\n",
        "results_df = pd.DataFrame(list(results.items()), columns=['Model', 'Accuracy'])\n",
        "best_model = results_df.loc[results_df['Accuracy'].idxmax()]\n",
        "worst_model = results_df.loc[results_df['Accuracy'].idxmin()]\n",
        "\n",
        "print(\"Model Performance Summary:\", results_df)\n",
        "print(\"Best Model:\", best_model['Model'], \"| Accuracy:\", round(best_model['Accuracy'], 4))\n",
        "print(\"Worst Model:\", worst_model['Model'], \"| Accuracy:\", round(worst_model['Accuracy'], 4))"
      ],
      "metadata": {
        "colab": {
          "base_uri": "https://localhost:8080/"
        },
        "id": "J9pTtANe8Dtj",
        "outputId": "242ece2e-ea4a-4192-cd82-942e092db006"
      },
      "execution_count": 8,
      "outputs": [
        {
          "output_type": "stream",
          "name": "stdout",
          "text": [
            "Model Performance Summary:                     Model  Accuracy\n",
            "0     Logistic Regression  0.973684\n",
            "1           Decision Tree  0.947368\n",
            "2           Random Forest  0.964912\n",
            "3  Support Vector Machine  0.973684\n",
            "4     k-Nearest Neighbors  0.947368\n",
            "Best Model: Logistic Regression | Accuracy: 0.9737\n",
            "Worst Model: Decision Tree | Accuracy: 0.9474\n"
          ]
        }
      ]
    },
    {
      "cell_type": "code",
      "source": [
        "# Visualization\n",
        "plt.figure(figsize=(8, 5))\n",
        "sns.barplot(x='Model', y='Accuracy', data=results_df, palette='viridis')\n",
        "plt.title('Model Accuracy Comparison')\n",
        "plt.xticks(rotation=30)\n",
        "plt.show()"
      ],
      "metadata": {
        "colab": {
          "base_uri": "https://localhost:8080/",
          "height": 655
        },
        "id": "qjWazSp-8HNK",
        "outputId": "64450de3-ca6f-4559-8d9e-b2d82a95ee8b"
      },
      "execution_count": 9,
      "outputs": [
        {
          "output_type": "stream",
          "name": "stderr",
          "text": [
            "/tmp/ipython-input-4064848215.py:3: FutureWarning: \n",
            "\n",
            "Passing `palette` without assigning `hue` is deprecated and will be removed in v0.14.0. Assign the `x` variable to `hue` and set `legend=False` for the same effect.\n",
            "\n",
            "  sns.barplot(x='Model', y='Accuracy', data=results_df, palette='viridis')\n"
          ]
        },
        {
          "output_type": "display_data",
          "data": {
            "text/plain": [
              "<Figure size 800x500 with 1 Axes>"
            ],
            "image/png": "[encoded data removed]"
          },
          "metadata": {}
        }
      ]
    },
    {
      "cell_type": "code",
      "source": [
        "# Conclusion\n",
        "print(\"CONCLUSION:\")\n",
        "print(f\"The best performing model is {best_model['Model']} with an accuracy of {round(best_model['Accuracy'], 4)}.\")\n",
        "print(f\"The worst performing model is {worst_model['Model']} with an accuracy of {round(worst_model['Accuracy'], 4)}.\")\n",
        "print(\"Classification Analysis Completed Successfully!\")"
      ],
      "metadata": {
        "colab": {
          "base_uri": "https://localhost:8080/"
        },
        "id": "oGkMy8O-8L8v",
        "outputId": "021331db-0ad2-4fae-edcb-e090793a86d8"
      },
      "execution_count": 10,
      "outputs": [
        {
          "output_type": "stream",
          "name": "stdout",
          "text": [
            "CONCLUSION:\n",
            "The best performing model is Logistic Regression with an accuracy of 0.9737.\n",
            "The worst performing model is Decision Tree with an accuracy of 0.9474.\n",
            "Classification Analysis Completed Successfully!\n"
          ]
        }
      ]
    }
  ]
}